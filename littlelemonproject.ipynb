{
 "cells": [
  {
   "cell_type": "code",
   "execution_count": 1,
   "id": "056e1d27-1496-43e7-8f8f-e58645504663",
   "metadata": {},
   "outputs": [
    {
     "name": "stdout",
     "output_type": "stream",
     "text": [
      "Requirement already satisfied: mysql-connector-python in c:\\users\\acer\\appdata\\local\\programs\\python\\python313\\lib\\site-packages (9.2.0)\n"
     ]
    }
   ],
   "source": [
    "!pip install mysql-connector-python"
   ]
  },
  {
   "cell_type": "code",
   "execution_count": 2,
   "id": "86cd568b-48f7-4810-b0b8-b804b1afb2aa",
   "metadata": {},
   "outputs": [],
   "source": [
    "import mysql.connector as connector"
   ]
  },
  {
   "cell_type": "code",
   "execution_count": 8,
   "id": "6d1936f0-75f0-4dc7-a288-913f58498979",
   "metadata": {},
   "outputs": [],
   "source": [
    "connection = connector.connect(user=\"littlelemonuser\", password=\"db_cap@7535\")"
   ]
  },
  {
   "cell_type": "code",
   "execution_count": 11,
   "id": "d4f72778-949f-475a-ad01-f770822f604e",
   "metadata": {},
   "outputs": [
    {
     "name": "stdout",
     "output_type": "stream",
     "text": [
      "Bookings table created successfully.\n"
     ]
    }
   ],
   "source": [
    "import mysql.connector as connector\n",
    "\n",
    "\n",
    "connection = connector.connect(\n",
    "    user='littlelemonuser',\n",
    "    password='db_cap@7535',\n",
    "    database='littlelemondm'\n",
    ")\n",
    "\n",
    "cursor = connection.cursor()\n",
    "\n",
    "create_bookings_table_query = \"\"\"\n",
    "CREATE TABLE IF NOT EXISTS Bookings (\n",
    "    BookingID INT PRIMARY KEY,\n",
    "    CustomerID INT,\n",
    "    TableNumber INT,\n",
    "    BookingDate DATE\n",
    ");\n",
    "\"\"\"\n",
    "\n",
    "cursor.execute(create_bookings_table_query)\n",
    "\n",
    "connection.commit()\n",
    "cursor.close()\n",
    "connection.close()\n",
    "\n",
    "print(\"Bookings table created successfully.\")"
   ]
  },
  {
   "cell_type": "code",
   "execution_count": 12,
   "id": "bc464043-e85d-4342-bac0-2171ede78a65",
   "metadata": {},
   "outputs": [],
   "source": [
    "import mysql.connector as connector\n",
    "\n",
    "def connect_db():\n",
    "    return connector.connect(\n",
    "        user='littlelemonuser',\n",
    "        password='db_cap@7535',\n",
    "        database='littlelemondm'\n",
    "    )\n",
    "\n",
    "# 1. Function to insert a new booking\n",
    "def add_booking(booking_id, customer_id, table_number, booking_date):\n",
    "    connection = connect_db()\n",
    "    cursor = connection.cursor()\n",
    "    insert_query = \"\"\"\n",
    "    INSERT INTO Bookings (BookingID, CustomerID, TableNumber, BookingDate)\n",
    "    VALUES (%s, %s, %s, %s)\n",
    "    \"\"\"\n",
    "    cursor.execute(insert_query, (booking_id, customer_id, table_number, booking_date))\n",
    "    connection.commit()\n",
    "    cursor.close()\n",
    "    connection.close()\n",
    "    print(\"Booking added successfully.\")\n",
    "\n",
    "# 2. Function to view all bookings\n",
    "def view_bookings():\n",
    "    connection = connect_db()\n",
    "    cursor = connection.cursor()\n",
    "    cursor.execute(\"SELECT * FROM Bookings\")\n",
    "    results = cursor.fetchall()\n",
    "    cursor.close()\n",
    "    connection.close()\n",
    "    return results\n",
    "\n",
    "# 3. Function to find booking by customer ID\n",
    "def find_booking_by_customer(customer_id):\n",
    "    connection = connect_db()\n",
    "    cursor = connection.cursor()\n",
    "    cursor.execute(\"SELECT * FROM Bookings WHERE CustomerID = %s\", (customer_id,))\n",
    "    result = cursor.fetchall()\n",
    "    cursor.close()\n",
    "    connection.close()\n",
    "    return result"
   ]
  },
  {
   "cell_type": "code",
   "execution_count": 14,
   "id": "798fb3ab-3d12-4a25-9c50-54c01bbc4ecd",
   "metadata": {},
   "outputs": [
    {
     "name": "stdout",
     "output_type": "stream",
     "text": [
      "[(1, datetime.date(2025, 4, 10), 5, 1), (2, datetime.date(2025, 4, 11), 2, 2), (3, datetime.date(2022, 12, 5), 3, 3), (5, datetime.date(2022, 10, 10), 5, 4), (6, datetime.date(2022, 10, 15), 5, 4), (7, datetime.date(2022, 12, 2), 3, 2)]\n"
     ]
    }
   ],
   "source": [
    "print(view_bookings())"
   ]
  },
  {
   "cell_type": "code",
   "execution_count": null,
   "id": "b5a0738d-ce1a-4d1f-aae1-034a2a232e63",
   "metadata": {},
   "outputs": [],
   "source": []
  }
 ],
 "metadata": {
  "kernelspec": {
   "display_name": "Python 3 (ipykernel)",
   "language": "python",
   "name": "python3"
  },
  "language_info": {
   "codemirror_mode": {
    "name": "ipython",
    "version": 3
   },
   "file_extension": ".py",
   "mimetype": "text/x-python",
   "name": "python",
   "nbconvert_exporter": "python",
   "pygments_lexer": "ipython3",
   "version": "3.13.2"
  }
 },
 "nbformat": 4,
 "nbformat_minor": 5
}
